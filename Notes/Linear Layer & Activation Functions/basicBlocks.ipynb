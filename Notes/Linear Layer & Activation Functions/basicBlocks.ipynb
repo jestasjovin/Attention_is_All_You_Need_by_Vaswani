{
 "cells": [
  {
   "cell_type": "markdown",
   "id": "74d85497",
   "metadata": {},
   "source": [
    "# Simple modal to predict if machine is working or not, after given number of hours it has been active\n",
    "\n",
    "The training data should have labels of active working hours of similar machine and wether its working or not."
   ]
  },
  {
   "cell_type": "code",
   "execution_count": null,
   "id": "977849b8",
   "metadata": {},
   "outputs": [],
   "source": [
    "import torch\n",
    "import torch.nn as nn\n",
    "import torch.optim as optim"
   ]
  },
  {
   "cell_type": "code",
   "execution_count": 3,
   "id": "9242a518-5e64-426b-a26c-b54f0ce4a982",
   "metadata": {},
   "outputs": [
    {
     "name": "stdout",
     "output_type": "stream",
     "text": [
      "Data: tensor([[ 200.],\n",
      "        [1500.],\n",
      "        [ 800.],\n",
      "        [1200.],\n",
      "        [ 400.]])\n",
      "Labels: tensor([[1.],\n",
      "        [0.],\n",
      "        [1.],\n",
      "        [0.],\n",
      "        [1.]])\n"
     ]
    }
   ],
   "source": [
    "# Dataset (feature: hours used)\n",
    "# Labels: [0 = broken, 1 = working]\n",
    "data = torch.tensor([[200], \n",
    "                     [1500], \n",
    "                     [800], \n",
    "                     [1200], \n",
    "                     [400]],\n",
    "                   dtype=torch.float32)\n",
    "\n",
    "labels = torch.tensor([1, 0, 1, 0, 1], dtype=torch.float32).view(-1, 1) \n",
    "# Checking the shapes of data and labels\n",
    "print(\"Data:\", data)\n",
    "print(\"Labels:\", labels)\n"
   ]
  },
  {
   "cell_type": "markdown",
   "id": "b56efaeb-0fbe-4f42-8ded-f2195ae72d71",
   "metadata": {},
   "source": [
    "# Defining a simple model with Linear Layer, Activation, and Layer Normalization"
   ]
  },
  {
   "cell_type": "code",
   "execution_count": 6,
   "id": "5bfeafff-a157-404f-8f5a-c2bdeb5c2ace",
   "metadata": {},
   "outputs": [],
   "source": [
    "class MachineStatusModel(nn.Module):\n",
    "    def __init__(self):\n",
    "        super(MachineStatusModel, self).__init__()\n",
    "        \n",
    "        # the linear layer\n",
    "        # Input size = 1 (hours used) and the output size = 1 (probability of working)\n",
    "        self.linear = nn.Linear(1, 1)\n",
    "        \n",
    "        # Layer normalization and is applied after linear layer\n",
    "        self.layer_norm = nn.LayerNorm(1)\n",
    "        \n",
    "        # This is Sigmoid activation function \n",
    "        #Is used for binary classification : (0 = broken, 1 = working)\n",
    "        self.sigmoid = nn.Sigmoid()\n",
    "\n",
    "    def forward(self, x):\n",
    "        # Data flows through the network\n",
    "        # Linear transformation: W*x + b\n",
    "        x = self.linear(x)\n",
    "        \n",
    "        # Apply Layer Normalization\n",
    "        x = self.layer_norm(x)\n",
    "        \n",
    "        # Apply Sigmoid to get the probability of machine working (between 0 and 1)\n",
    "        x = self.sigmoid(x)\n",
    "        \n",
    "        return x"
   ]
  },
  {
   "cell_type": "markdown",
   "id": "81937a61-44ac-4f71-a3da-b89d6fd19b20",
   "metadata": {},
   "source": [
    "# Instantiating the model, loss function, and optimizer"
   ]
  },
  {
   "cell_type": "code",
   "execution_count": 5,
   "id": "a931660b-2375-4823-9fa0-0db54b9c9210",
   "metadata": {},
   "outputs": [],
   "source": [
    "model = MachineStatusModel()\n",
    "# Binary Cross-Entropy Loss (since this is a binary classification problem)\n",
    "criterion = nn.BCELoss()\n",
    "# Stochastic Gradient Descent (SGD) for optimization\n",
    "optimizer = optim.SGD(model.parameters(), lr=0.01)\n"
   ]
  },
  {
   "cell_type": "markdown",
   "id": "dd089b66-4396-4a99-8df7-c06483939818",
   "metadata": {},
   "source": [
    "# Training the model with given data"
   ]
  },
  {
   "cell_type": "code",
   "execution_count": null,
   "id": "ee73c015-fada-4aaa-abd2-a8b2e7540dfa",
   "metadata": {},
   "outputs": [
    {
     "name": "stdout",
     "output_type": "stream",
     "text": [
      "Epoch [100/1000], Loss: 0.6853\n",
      "Epoch [200/1000], Loss: 0.6805\n",
      "Epoch [300/1000], Loss: 0.6776\n",
      "Epoch [400/1000], Loss: 0.6758\n",
      "Epoch [500/1000], Loss: 0.6747\n",
      "Epoch [600/1000], Loss: 0.6741\n",
      "Epoch [700/1000], Loss: 0.6737\n",
      "Epoch [800/1000], Loss: 0.6734\n",
      "Epoch [900/1000], Loss: 0.6733\n",
      "Epoch [1000/1000], Loss: 0.6732\n"
     ]
    }
   ],
   "source": [
    "epochs = 1000\n",
    "for epoch in range(epochs):\n",
    "    # Forward pass: compute the model output (probability of working)\n",
    "    predictions = model(data)\n",
    "    \n",
    "    # Compute the loss (binary cross-entropy loss)\n",
    "    loss = criterion(predictions, labels)\n",
    "    \n",
    "    # Backward pass: compute gradients\n",
    "    # Clear previous gradients\n",
    "    optimizer.zero_grad()  \n",
    "    # New gradients\n",
    "    loss.backward()       \n",
    "    \n",
    "    # Update weights using the optimizer\n",
    "    optimizer.step()\n",
    "    \n",
    "    # Print the loss every 100 epochs to track progress\n",
    "    if (epoch + 1) % 100 == 0:\n",
    "        print(f\"Epoch [{epoch+1}/{epochs}], Loss: {loss.item():.4f}\")\n"
   ]
  },
  {
   "cell_type": "markdown",
   "id": "5240247b-53f8-4c99-b594-95af75237d80",
   "metadata": {},
   "source": [
    "# Evaluating the trained model\n",
    "\n",
    "to get an output from a simple input"
   ]
  },
  {
   "cell_type": "code",
   "execution_count": null,
   "id": "5f8065cf-56f9-41a2-b8db-a875af29142f",
   "metadata": {},
   "outputs": [
    {
     "name": "stdout",
     "output_type": "stream",
     "text": [
      "\n",
      "Predicted probability of working for 900 hours of usage: 0.5914\n",
      "Predicted class (0=Broken, 1=Working): 1.0\n"
     ]
    }
   ],
   "source": [
    "\n",
    "with torch.no_grad():\n",
    "    # Now let's predict\n",
    "    new_machine = torch.tensor([[900]], dtype=torch.float32)\n",
    "    predicted_prob = model(new_machine)\n",
    "    \n",
    "    # make it binary...into true or false\n",
    "    predicted_class = (predicted_prob > 0.5).float() \n",
    "    \n",
    "    print(f\"\\nPredicted probability of working for 900 hours of usage: {predicted_prob.item():.4f}\")\n",
    "    print(f\"Predicted class (0=Broken, 1=Working): {predicted_class.item()}\")"
   ]
  },
  {
   "cell_type": "code",
   "execution_count": null,
   "id": "8918742e-39d8-49f9-8c37-74e1e5a1b788",
   "metadata": {},
   "outputs": [],
   "source": []
  }
 ],
 "metadata": {
  "kernelspec": {
   "display_name": "Python 3 (ipykernel)",
   "language": "python",
   "name": "python3"
  },
  "language_info": {
   "codemirror_mode": {
    "name": "ipython",
    "version": 3
   },
   "file_extension": ".py",
   "mimetype": "text/x-python",
   "name": "python",
   "nbconvert_exporter": "python",
   "pygments_lexer": "ipython3",
   "version": "3.12.3"
  }
 },
 "nbformat": 4,
 "nbformat_minor": 5
}
