{
 "cells": [
  {
   "cell_type": "markdown",
   "metadata": {},
   "source": [
    "# Scaled Dot-Product Attention in PyTorch\n",
    "\n",
    "The basic idea is to compute the attention scores between a set of **queries (Q)** and **keys (K)** and use these scores to weight a set of **values (V)**. \n"
   ]
  },
  {
   "cell_type": "code",
   "execution_count": 1,
   "metadata": {},
   "outputs": [],
   "source": [
    "import torch\n",
    "import torch.nn.functional as F\n",
    "import torch.nn as nn"
   ]
  },
  {
   "cell_type": "markdown",
   "metadata": {},
   "source": [
    "### Scaled Dot-Product Attention\n",
    "\n",
    "$$\n",
    "\\text{Attention}(Q, K, V) = \\text{softmax}\\left(\\frac{QK^T}{\\sqrt{d_k}}\\right) V\n",
    "$$\n",
    "\n",
    "Where:\n",
    "-  *Q*  is the query matrix\n",
    "-  *K*  is the key matrix\n",
    "-  *V*  is the value matrix\n",
    "-  *d_k* is the dimension of the key vectors (used for scaling)\n",
    "\n",
    "The softmax function => to normalize attention scores, and the output is a weighted sum of the values *V*.\n",
    "\n",
    "### Steps to Implement\n",
    "1. **Compute the dot product of queries and keys**: This gives us raw attention scores.\n",
    "2. **Scale the scores**: divide by \\( \\sqrt{d_k} \\).\n",
    "3. **Apply softmax**:  raw scores into probabilities.\n",
    "4. **Compute the weighted sum of the values**: Multiply the attention weights with the values *V*.\n",
    "\n",
    "\n",
    "#### Requirements\n",
    "\n",
    "**batch_size**:\n",
    "   - **Definition**: The number of sequences (or examples) that are processed together in one forward pass through the model.\n",
    "   -to take advantage of vectorization (parallel processing) and to make training more efficient. \n",
    "   -The **batch_size** specifies how many sequences are included in each batch.\n",
    "\n",
    " **seq_len** (Sequence Length):\n",
    "   - **Definition**: The length of each input sequence (i.e., the number of tokens or words in each sequence).\n",
    "\n",
    " **d_k** (Dimension of the Key and Query vectors):\n",
    "   - **Definition**: The dimensionality of the **key** and **query** vectors in the attention mechanism.\n",
    "\n",
    " **d_v** (Dimension of the Value vector):\n",
    "   - **Definition**: Dimension of the **value** vectors .If **d_v = 128**, each value vector would have 128 dimensions.\n",
    "\n",
    "\n",
    "---\n",
    "\n",
    "\n",
    "\n",
    "##### Input:\n",
    "- **Q**: $(\\text{batch\\_size}, \\text{seq\\_len}, d_k)$  \n",
    "- **K**: $(\\text{batch\\_size}, \\text{seq\\_len}, d_k)$  \n",
    "- **V**: $(\\text{batch\\_size}, \\text{seq\\_len}, d_v)$  \n",
    "- **Mask** (optional): $(\\text{batch\\_size}, \\text{seq\\_len}, \\text{seq\\_len})$\n",
    "##### Output:\n",
    "- **Attention Output**: $(\\text{batch\\_size}, \\text{seq\\_len}, d_v)$  \n",
    "- **Attention Weights**: $(\\text{batch\\_size}, \\text{seq\\_len}, \\text{seq\\_len})$\n",
    "\n",
    "\n",
    "\n",
    "### Performance\n",
    "##### Time Complexity:\n",
    "$$\n",
    "O(\\text{batch\\_size} \\times \\text{seq\\_len}^2 \\times (d_k + d_v))\n",
    "$$\n",
    "##### Space Complexity:\n",
    "$$\n",
    "O(\\text{batch\\_size} \\times \\text{seq\\_len}^2 + \\text{batch\\_size} \\times \\text{seq\\_len} \\times d_v)\n",
    "$$\n",
    "\n",
    "\n",
    "\n",
    "\n"
   ]
  },
  {
   "cell_type": "code",
   "execution_count": null,
   "metadata": {},
   "outputs": [],
   "source": [
    "class ScaledDotProductAttention(nn.Module):\n",
    "    def __init__(self, d_k):\n",
    "        super(ScaledDotProductAttention, self).__init__()\n",
    "        # The dimension of the key vectors for scaling\n",
    "        self.d_k = d_k \n",
    "\n",
    "    def forward(self, Q, K, V, mask=None):\n",
    "        # Step 1: Calculate dot product of Q and K\n",
    "        # Step 2: Scale the scores by sqrt(d_k)\n",
    "        # Step 3: Apply mask (optional) to prevent attending to certain positions     \n",
    "        # Step 4: Apply softmax to get attention weights\n",
    "        # Step 5: Compute the weighted sum of values (V)\n",
    "        return \"Compute the weighted sum of values\", \"attention_weights\""
   ]
  }
 ],
 "metadata": {
  "kernelspec": {
   "display_name": "base",
   "language": "python",
   "name": "python3"
  },
  "language_info": {
   "codemirror_mode": {
    "name": "ipython",
    "version": 3
   },
   "file_extension": ".py",
   "mimetype": "text/x-python",
   "name": "python",
   "nbconvert_exporter": "python",
   "pygments_lexer": "ipython3",
   "version": "3.12.3"
  }
 },
 "nbformat": 4,
 "nbformat_minor": 2
}
